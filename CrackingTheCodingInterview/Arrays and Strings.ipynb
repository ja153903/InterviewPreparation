{
 "cells": [
  {
   "cell_type": "markdown",
   "metadata": {},
   "source": [
    "# Arrays and String\n",
    "---"
   ]
  },
  {
   "cell_type": "markdown",
   "metadata": {},
   "source": [
    "## 1.1 *Is Unique*\n",
    "\n",
    "Implement an algorithm to determine if a string has all unique characters. What if you cannot use additional data structures"
   ]
  },
  {
   "cell_type": "code",
   "execution_count": 2,
   "metadata": {},
   "outputs": [],
   "source": [
    "def is_unique(s: str) -> bool:\n",
    "    return len(set(s)) == len(s)\n",
    "\n",
    "def is_unique_no_ds(s: str) -> bool:\n",
    "    for i in range(len(s)):\n",
    "        for j in range(i + 1, len(s)):\n",
    "            if s[i] == s[j]:\n",
    "                return False\n",
    "    \n",
    "    return True"
   ]
  },
  {
   "cell_type": "markdown",
   "metadata": {},
   "source": [
    "### Analysis\n",
    "\n",
    "In this case, the function would take linear time and linear space.\n",
    "\n",
    "If we were not allowed to use an additional data structure, then we would take $O(n^2)$ time  in terms of the characters of the string as we have to check every single character in the string against each other to make sure that none of them are equal."
   ]
  },
  {
   "cell_type": "markdown",
   "metadata": {},
   "source": [
    "## 1.2 *Check Permutation*\n",
    "\n",
    "Given two strings, write a method to decide if one is a permutation of the other."
   ]
  },
  {
   "cell_type": "code",
   "execution_count": 3,
   "metadata": {},
   "outputs": [],
   "source": [
    "from collections import Counter\n",
    "\n",
    "\n",
    "def is_permutation(s: str, t: str) -> bool:\n",
    "    return Counter(s) == Counter(t)"
   ]
  },
  {
   "cell_type": "markdown",
   "metadata": {},
   "source": [
    "### Analysis\n",
    "\n",
    "In our problem here, we use the Counter data structure from the collections library which returns a dictionary containing the number of occurrences for each value in the string. This takes linear space and also takes linear time to construct."
   ]
  },
  {
   "cell_type": "markdown",
   "metadata": {},
   "source": [
    "## 1.3 URLify\n",
    "\n",
    "Replace all spaces with %20 and trim the spaces at the end"
   ]
  },
  {
   "cell_type": "code",
   "execution_count": 5,
   "metadata": {},
   "outputs": [],
   "source": [
    "def urlify(name: str, length: int) -> str:\n",
    "    result = []\n",
    "    \n",
    "    for char in name.strip():\n",
    "        if char == ' ':\n",
    "            result.append(\"%20\")\n",
    "        else:\n",
    "            result.append(char)\n",
    "    \n",
    "    return \"\".join(result)"
   ]
  },
  {
   "cell_type": "code",
   "execution_count": 6,
   "metadata": {},
   "outputs": [
    {
     "data": {
      "text/plain": [
       "'Mr%20John%20Smith'"
      ]
     },
     "execution_count": 6,
     "metadata": {},
     "output_type": "execute_result"
    }
   ],
   "source": [
    "urlify(\"Mr John Smith   \", 13)"
   ]
  },
  {
   "cell_type": "markdown",
   "metadata": {},
   "source": [
    "### Analysis\n",
    "\n",
    "This is a simple problem. We strip the whitespace at the end of the string and for every space, then we append the %20"
   ]
  },
  {
   "cell_type": "markdown",
   "metadata": {},
   "source": [
    "## 1.4 Palindrome Permutation\n",
    "\n",
    "Given a string, write a function to check if it is a permutation of a palindrome."
   ]
  },
  {
   "cell_type": "code",
   "execution_count": 13,
   "metadata": {},
   "outputs": [],
   "source": [
    "from collections import Counter\n",
    "\n",
    "\n",
    "def is_palindrome_permutation(s: str) -> bool:\n",
    "    chars = [char.lower() for char in s if char.isalpha()]\n",
    "    counter = Counter(chars)\n",
    "    odd = 0\n",
    "    \n",
    "    for value in counter.values():\n",
    "        if value % 2 == 1:\n",
    "            odd += 1\n",
    "    \n",
    "    return odd <= 1"
   ]
  },
  {
   "cell_type": "code",
   "execution_count": 14,
   "metadata": {},
   "outputs": [
    {
     "data": {
      "text/plain": [
       "True"
      ]
     },
     "execution_count": 14,
     "metadata": {},
     "output_type": "execute_result"
    }
   ],
   "source": [
    "is_palindrome_permutation(\"Tact Coa\")"
   ]
  },
  {
   "cell_type": "markdown",
   "metadata": {},
   "source": [
    "### Analysis\n",
    "\n",
    "The characters in the string will form a palindrome if we have an even number of every character or we have even number of every character and then one odd instance."
   ]
  },
  {
   "cell_type": "code",
   "execution_count": null,
   "metadata": {},
   "outputs": [],
   "source": []
  }
 ],
 "metadata": {
  "kernelspec": {
   "display_name": "Python [conda env:pytorch] *",
   "language": "python",
   "name": "conda-env-pytorch-py"
  },
  "language_info": {
   "codemirror_mode": {
    "name": "ipython",
    "version": 3
   },
   "file_extension": ".py",
   "mimetype": "text/x-python",
   "name": "python",
   "nbconvert_exporter": "python",
   "pygments_lexer": "ipython3",
   "version": "3.7.5"
  }
 },
 "nbformat": 4,
 "nbformat_minor": 2
}
