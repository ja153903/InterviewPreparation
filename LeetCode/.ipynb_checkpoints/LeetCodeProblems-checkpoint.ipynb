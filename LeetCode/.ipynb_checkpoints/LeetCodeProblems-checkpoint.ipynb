{
 "cells": [
  {
   "cell_type": "markdown",
   "metadata": {},
   "source": [
    "# LeetCode Solutions\n",
    "----\n",
    "## About\n",
    "\n",
    "The purpose of this notebook is to expand on the thoughtprocess behind a LeetCode solution as to fill in the blanks and make sure that I'm not just regurgitating a solution that I've memorized from the past."
   ]
  },
  {
   "cell_type": "markdown",
   "metadata": {},
   "source": [
    "---\n",
    "---"
   ]
  },
  {
   "cell_type": "markdown",
   "metadata": {},
   "source": [
    "## 1. Two Sum\n",
    "\n",
    "Given an array of integers, return **indices** of the two numbers such that they add up to a specific target.\n",
    "\n",
    "You may assume that each input would have **exactly** one solution, and you may not use the *same* element twice."
   ]
  },
  {
   "cell_type": "markdown",
   "metadata": {},
   "source": [
    "### Naive Solution\n",
    "\n",
    "For this question, a brute force solution would be to loop through the array and in each loop, we would have to take the current index plus one and iterate through the rest of the array. If we find two indices `i` and `j` such that `nums[i] + nums[j] == target`, then we return that pair `i` and `j` in an array.\n",
    "\n",
    "Since we know that each input would have exactly one solution, then it suffices to return an empty array at the bottom of the function to satisfy the return type.\n",
    "\n",
    "This solution would be $O(n^2)$ in the worst case and takes $O(1)$ space."
   ]
  },
  {
   "cell_type": "code",
   "execution_count": 1,
   "metadata": {},
   "outputs": [],
   "source": [
    "from typing import List\n",
    "\n",
    "\n",
    "class Solution:\n",
    "    def twoSum(self, nums: List[int], target: int) -> List[int]:\n",
    "        for i in range(len(nums)):\n",
    "            for j in range(i + 1, len(nums)):\n",
    "                if nums[i] + nums[j] == target:\n",
    "                    return [i, j]\n",
    "        \n",
    "        return []"
   ]
  },
  {
   "cell_type": "markdown",
   "metadata": {},
   "source": [
    "### Optimal Solution\n",
    "\n",
    "An optimal solution for this question would be to cache the seen value and its index in a hashmap as we iterate. This helps because we can have an initial check on every iteration to verify if `target - nums[i]` where `i` is the current index we're iterating on is contained within the cache. If that's true, then we've found the correct pair of indices to return. This works because if we've already cached one addend and we're currently iterating on the other addend, then we have `nums[i] + nums[j] == target` as in the brute force solution.\n",
    "\n",
    "This solution would be $O(n)$ time complexity in the worst case and takes $O(n)$ space."
   ]
  },
  {
   "cell_type": "code",
   "execution_count": 2,
   "metadata": {},
   "outputs": [],
   "source": [
    "from typing import List\n",
    "\n",
    "class Solution:\n",
    "    def twoSum(self, nums: List[int], target: int) -> List[int]:\n",
    "        cache = {}\n",
    "        \n",
    "        for i, val in enumerate(nums):\n",
    "            if target - val in cache:\n",
    "                return [cache[target - val], i]\n",
    "            \n",
    "            cache[val] = i\n",
    "        \n",
    "        return []"
   ]
  },
  {
   "cell_type": "markdown",
   "metadata": {},
   "source": [
    "### Analysis\n",
    "\n",
    "The trick in this question is to use a dictionary to cache seen values and their corresponding indices in case we run across an addend that allow some value in the dictionary to add up to the target parameter.\n",
    "\n",
    "So typically, it may be a good idea to use this technique on problems that require us to find values that sum up to a target value."
   ]
  },
  {
   "cell_type": "markdown",
   "metadata": {},
   "source": [
    "---\n",
    "---"
   ]
  },
  {
   "cell_type": "markdown",
   "metadata": {},
   "source": [
    "## 200. Number of Islands\n",
    "\n",
    "Given a 2D grid map of `'1'`s (land) and `'0'`s (water), count the number of islands. An island is surrounded by water and is formed by connecting adjacent lands horizontally or vertically. You may assume all four edges of the grid are all surrounded by water."
   ]
  },
  {
   "cell_type": "markdown",
   "metadata": {},
   "source": [
    "### Proposed Solution\n",
    "\n",
    "From the outset, this problem looks like a standard search and modify problem. This means that we're have to implement a depth first search on the \"graph\" and for each element modify it such that we don't need to come across it again. After we conclude each search, we then have to increment the number of islands that we've visited. Finally, we return that number of islands.\n",
    "\n",
    "Time complexity for this proposed algorithm would be $O(m * n)$ where $m$ is the number of rows and $n$ is the number of columns."
   ]
  },
  {
   "cell_type": "code",
   "execution_count": 3,
   "metadata": {},
   "outputs": [],
   "source": [
    "from typing import List\n",
    "\n",
    "\n",
    "class Solution:\n",
    "    def numIslands(self, grid: List[List[str]]) -> int:\n",
    "        if not grid:\n",
    "            return 0\n",
    "        \n",
    "        num_islands = 0\n",
    "        \n",
    "        for i in range(len(grid)):\n",
    "            for j in range(len(grid[i])):\n",
    "                if grid[i][j] == '1':\n",
    "                    self.dfs(grid, i, j)\n",
    "                    num_islands += 1\n",
    "        \n",
    "        return num_islands\n",
    "    \n",
    "    def dfs(self, grid: List[List[int]], i: int, j: int):\n",
    "        if i < 0 or i >= len(grid) or j < 0 or j >= len(grid[0]) or grid[i][j] != '1':\n",
    "            return\n",
    "        \n",
    "        grid[i][j] = '2'\n",
    "        \n",
    "        self.dfs(grid, i + 1, j)\n",
    "        self.dfs(grid, i - 1, j)\n",
    "        self.dfs(grid, i, j + 1)\n",
    "        self.dfs(grid, i, j - 1)\n"
   ]
  },
  {
   "cell_type": "markdown",
   "metadata": {},
   "source": [
    "---\n",
    "---"
   ]
  },
  {
   "cell_type": "markdown",
   "metadata": {},
   "source": [
    "## 42. Trapping Rain Water\n",
    "\n",
    "Given $n$ non-negative integers representing an elevation map where the width of each bar is 1, compute how much water it is able to trap after raining."
   ]
  },
  {
   "cell_type": "markdown",
   "metadata": {},
   "source": [
    "### Proposed Solution\n",
    "\n",
    "The idea behind doing this is to stray away from calculating area by height times width. We can instead sum the water amount of each bin.\n",
    "\n",
    "We're going to have two pointers: one on the left and the other on the right. We also keep track of the maximum values on each edge.\n",
    "\n",
    "On each iteration, we check which values `nums[left]` and `nums[right]` is less than or equal to the other. If the current value on either direction is greater than the corresponding max value then we replace that value, otherwise, we add the difference between the max value and the current value on that direction and increment or decrement the pointer.\n",
    "\n",
    "We then return the result.\n",
    "\n",
    "This solution would take $O(n)$ time and $O(1)$ space."
   ]
  },
  {
   "cell_type": "code",
   "execution_count": 4,
   "metadata": {},
   "outputs": [],
   "source": [
    "from typing import List\n",
    "\n",
    "\n",
    "class Solution:\n",
    "    def trap(self, height: List[int]) -> int:\n",
    "        left, right = 0, len(height) - 1\n",
    "        max_left, max_right = -1, -1\n",
    "        result = 0\n",
    "        \n",
    "        while left <= right:\n",
    "            if height[left] <= height[right]:\n",
    "                if max_left < height[left]:\n",
    "                    max_left = height[left]\n",
    "                else:\n",
    "                    result += max_left - height[left]\n",
    "                \n",
    "                left += 1\n",
    "            else:\n",
    "                if max_right < height[right]:\n",
    "                    max_right = height[right]\n",
    "                else:\n",
    "                    result += max_right - height[right]\n",
    "                \n",
    "                right -= 1\n",
    "        \n",
    "        return result"
   ]
  },
  {
   "cell_type": "markdown",
   "metadata": {},
   "source": [
    "---\n",
    "---"
   ]
  },
  {
   "cell_type": "markdown",
   "metadata": {},
   "source": [
    "## 1192. Critical Connections in a Network\n",
    "\n",
    "There are `n` servers numbered from `0` to `n-1` connected by undirected server-to-server `connections` forming a network where `connections[i] = [a, b]` represents a connection between servers `a` and `b`. Any server can reach any other server directly or indirectly through the network.\n",
    "\n",
    "A *critical connection* is a connection that, if removed, will make some server unable to reach some other server.\n",
    "\n",
    "Return all critical connections in the network in any order."
   ]
  },
  {
   "cell_type": "markdown",
   "metadata": {},
   "source": [
    "### Proposed Solutions\n",
    "\n",
    "An edge is a critical connection, if and only if it is not in a cycle.\n",
    "\n",
    "So, if we know how to find cycles, and discard all edges in the cycles, then the remaining connections are a complete collection of critical connections.\n",
    "\n",
    "**How to find edges in cycles, and remove them**\n",
    "\n",
    "We will use DFS algorithm to find cycles and decide whether or not an edge is in a cycle.\n",
    "\n",
    "Define **rank** of a node: The depth of a node during a DFS. Starting node has a rank 0.\n",
    "\n",
    "Only the nodes on the current DFS path have non-special ranks. In other words, only the nodes that we've started visiting, but haven't finished visiting, have ranks. So `0 <= rank <= n`\n",
    "\n",
    "**How can rank help us with removing cycles**\n",
    "\n",
    "Imagine you have a current path of length `k` during a DFS. The nodes on the path has increasing ranks from `0` to `k` and incrementing by `1`. Surprisingly, your next visit finds a node that has a rank of `p` where `0 <= p < k`. Why does this happen? You found a node that is on the current search path. That means you found a cycle.\n",
    "\n",
    "But only the current level of search knows it finds a cycle. How does the upper level of search know if you backtrack? We make sure of the return value of the DFS: the minimum rank it finds. During a step of search from node `u` to its neighbor `v` if `dfs(v)` returns something smaller than or equal to `rank(u)`, then `u` knows its neighbor `v` helped it to find a cycle back to `u` or to `u`'s ancestor. So `u` knows it should discard the edge `(u, v)` which is in a cycle."
   ]
  },
  {
   "cell_type": "code",
   "execution_count": 5,
   "metadata": {},
   "outputs": [],
   "source": [
    "from collections import defaultdict\n",
    "from typing import List\n",
    "\n",
    "\n",
    "class Solution:\n",
    "    def criticalConnections(self, n: int, connections: List[List[int]]) -> List[List[int]]:\n",
    "        graph = self.make_graph(connections)\n",
    "        connections = set(map(tuple, (map(sorted, connections))))\n",
    "        rank = [-2] * n\n",
    "        \n",
    "        def dfs(node: int, depth: int):\n",
    "            if rank[node] >= 0:\n",
    "                return rank[node]\n",
    "            \n",
    "            rank[node] = depth\n",
    "            min_back_depth = n\n",
    "            \n",
    "            for neighbor in graph[node]:\n",
    "                if rank[neighbor] == depth - 1:\n",
    "                    continue\n",
    "                \n",
    "                back_depth = dfs(neighbor, depth + 1)\n",
    "                \n",
    "                if back_depth <= depth:\n",
    "                    # This means we have a cycle\n",
    "                    connections.discard(tuple(sorted((node, neighbor))))\n",
    "                \n",
    "                min_back_depth = min(min_back_depth, back_depth)\n",
    "\n",
    "            return min_back_depth\n",
    "        \n",
    "        dfs(0, 0)\n",
    "        \n",
    "        return list(connections)\n",
    "    \n",
    "    def make_graph(self, connections: List[List[int]]):\n",
    "        graph = defaultdict(list)\n",
    "\n",
    "        for connection in connections:\n",
    "            graph[connection[0]].append(connection[1])\n",
    "            graph[connection[1]].append(connection[0])\n",
    "\n",
    "        return graph"
   ]
  },
  {
   "cell_type": "markdown",
   "metadata": {},
   "source": [
    "### Ideal Solution\n",
    "\n",
    "Most solutions to this problem require the use of Tarjan's strongly connected components algorithm.\n",
    "\n",
    "The basic idea of the algorithm is this: a DFS search begins from an arbitrary start node (and subsequent depth-first searches are conducted on any nodes that have not yet been found). As usual with DFS, the search visits every node of the graph exactly once, declining to revisit any node that has already been visited. Thus, the collection of search trees is a spanning forest of the graph. The strongly connected components will be recovered as certain subtrees of this forest. The roots of these subtress are called the roots of the strongly connected components. Any node of a strongly connected component might server as a root, if it happens to be the first node of a component that is discovered by search."
   ]
  },
  {
   "cell_type": "markdown",
   "metadata": {},
   "source": [
    "---\n",
    "---"
   ]
  },
  {
   "cell_type": "markdown",
   "metadata": {},
   "source": [
    "## 146. LRU Cache\n",
    "\n",
    "Design and implement a data structure for Least Recently Used (LRU) cache. It should support the following operations: get and put.\n",
    "\n",
    "* `get(key)` - Get the value (will always be positive) of the key if the key exists in the cache, otherwise return -1.\n",
    "\n",
    "* `put(key, value)` - Set or insert the value if the key is not already present. When the cache reached its capacity, it should invalidate the least recently used item before inserting a new item.\n",
    "\n",
    "The cache is initialized with a positive capacity.\n",
    "\n",
    "Follow up:\n",
    "Could you do both operations in O(1) time complexity?"
   ]
  },
  {
   "cell_type": "markdown",
   "metadata": {},
   "source": [
    "### Solution\n",
    "\n",
    "This question is straightforward. We need to keep track of two things. How recent a value was inserted into the cache and storing the actual key and value pair in the cache.\n",
    "\n",
    "We can obviously use a dictionary to keep track of the key and value pairs.\n",
    "\n",
    "For the recency dictionary, we can store a timestamp on it that has to be updated every time something is queried or removed.\n"
   ]
  },
  {
   "cell_type": "code",
   "execution_count": 1,
   "metadata": {},
   "outputs": [],
   "source": [
    "from collections import OrderedDict\n",
    "\n",
    "\n",
    "class LRUCache:\n",
    "    def __init__(self, capacity: int):\n",
    "        self.capacity = capacity\n",
    "        self.ordered = OrderedDict()\n",
    "        self.cache = {}\n",
    "\n",
    "    def get(self, key: int) -> int:\n",
    "        if key in self.cache:\n",
    "            self.__update_order(key)\n",
    "            return self.cache[key]\n",
    "        \n",
    "        return -1\n",
    "\n",
    "    def put(self, key: int, value: int) -> None:\n",
    "        if self.__at_capacity() and key not in self.cache:\n",
    "            lru = self.__get_lru()\n",
    "            self.__delete_lru(lru)\n",
    "        \n",
    "        self.__update_order(key)\n",
    "        self.cache[key] = value\n",
    "    \n",
    "    def __update_order(self, key: int):\n",
    "        if key in self.ordered:\n",
    "            del self.ordered[key]\n",
    "\n",
    "        self.ordered[key] = 1\n",
    "\n",
    "    \n",
    "    def __get_lru(self) -> int:\n",
    "        if len(self.ordered) == 0:\n",
    "            return -1\n",
    "        \n",
    "        return self.ordered.popitem(last=False)[0]\n",
    "    \n",
    "    def __at_capacity(self):\n",
    "        return len(self.cache) == self.capacity\n",
    "    \n",
    "    def __delete_lru(self, lru: int):\n",
    "        # already deleted from OrderedDict self.recency in get_lru call\n",
    "        del self.cache[lru]\n",
    "                "
   ]
  },
  {
   "cell_type": "markdown",
   "metadata": {},
   "source": [
    "### Analysis\n",
    "\n",
    "Our solution here has a get and put function implemented in constant time."
   ]
  },
  {
   "cell_type": "markdown",
   "metadata": {},
   "source": [
    "---\n",
    "---"
   ]
  },
  {
   "cell_type": "markdown",
   "metadata": {},
   "source": [
    "## 2. Add Two Numbers\n",
    "\n",
    "You are given two non-empty linked lists representing two non-negative integers. The digits are stored in reverse order and each of their nodes contain a single digit. Add the two numbers and return it as a linked list.\n",
    "\n",
    "You may assume the two numbers do not contain any leading zero, except the number 0 itself."
   ]
  },
  {
   "cell_type": "markdown",
   "metadata": {},
   "source": [
    "### Solution\n",
    "\n",
    "This question has a simple solution. We iterate over the two linked lists in parallel while either one still exists. We keep track of a total value that also keeps track of a carry variable. We then return the result listnode"
   ]
  },
  {
   "cell_type": "code",
   "execution_count": 2,
   "metadata": {},
   "outputs": [],
   "source": [
    "from dataclasses import dataclass"
   ]
  },
  {
   "cell_type": "code",
   "execution_count": 3,
   "metadata": {},
   "outputs": [],
   "source": [
    "@dataclass\n",
    "class ListNode:\n",
    "    val: int\n",
    "    next: \"ListNode\" = None"
   ]
  },
  {
   "cell_type": "code",
   "execution_count": 4,
   "metadata": {},
   "outputs": [],
   "source": [
    "class Solution:\n",
    "    def addTwoNumbers(self, l1: ListNode, l2: ListNode) -> ListNode:\n",
    "        result = ListNode(val=0)\n",
    "        runner = result\n",
    "        carry = 0\n",
    "        \n",
    "        while l1 or l2:\n",
    "            total = carry\n",
    "            \n",
    "            if l1:\n",
    "                total += l1.val\n",
    "                l1 = l1.next\n",
    "            \n",
    "            if l2:\n",
    "                total += l2.val\n",
    "                l2 = l2.next\n",
    "            \n",
    "            runner.next = ListNode(val=total % 10)\n",
    "            carry = total // 10\n",
    "            \n",
    "            runner = runner.next\n",
    "        \n",
    "        if carry > 0:\n",
    "            runner.next = ListNode(val=carry)\n",
    "        \n",
    "        return result.next"
   ]
  },
  {
   "cell_type": "markdown",
   "metadata": {},
   "source": [
    "---\n",
    "---"
   ]
  },
  {
   "cell_type": "markdown",
   "metadata": {},
   "source": [
    "## 5. Longest Palindromic Substring\n",
    "\n",
    "Given a string **s**, find the longest palindromic substring in **s**. You may assume that the maximum length of **s** is 1000."
   ]
  },
  {
   "cell_type": "markdown",
   "metadata": {},
   "source": [
    "### Solution\n",
    "\n",
    "The idea with this solution is to expand around two indices `(i, i)` and `(i, i + 1)`. For each of the indices, we expand around them for each valid palindrome."
   ]
  },
  {
   "cell_type": "code",
   "execution_count": 1,
   "metadata": {},
   "outputs": [],
   "source": [
    "class Solution:\n",
    "    def __init__(self):\n",
    "        self.lo = 0\n",
    "        self.max_len = 0\n",
    "    \n",
    "    def longestPalindrome(self, s: str) -> str:\n",
    "        n = len(s)\n",
    "        \n",
    "        if n < 2:\n",
    "            return s\n",
    "        \n",
    "        for i in range(n - 1):\n",
    "            self.extend(s, i, i)\n",
    "            self.extend(s, i, i + 1)\n",
    "        \n",
    "        return s[self.lo: self.lo + self.max_len]\n",
    "    \n",
    "    def extend(self, s: str, i: int, j: int):\n",
    "        while i >= 0 and j < len(s) and s[i] == s[j]:\n",
    "            i -= 1\n",
    "            j += 1\n",
    "        \n",
    "        if self.max_len < j - i - 1:\n",
    "            self.lo = i + 1\n",
    "            self.max_len = j - i - 1"
   ]
  },
  {
   "cell_type": "markdown",
   "metadata": {},
   "source": [
    "---\n",
    "---"
   ]
  },
  {
   "cell_type": "markdown",
   "metadata": {},
   "source": [
    "## 21. Merge Two Sorted Lists\n",
    "\n",
    "Merge two sorted linked lists and return it as a new list. The new list should be made by splicing together the nodes of the first two lists."
   ]
  },
  {
   "cell_type": "markdown",
   "metadata": {},
   "source": [
    "### Solution\n",
    "\n",
    "This is an easy problem. If the value of one node is less, then we make them the next node."
   ]
  },
  {
   "cell_type": "code",
   "execution_count": 3,
   "metadata": {},
   "outputs": [],
   "source": [
    "from dataclasses import dataclass"
   ]
  },
  {
   "cell_type": "code",
   "execution_count": 4,
   "metadata": {},
   "outputs": [],
   "source": [
    "@dataclass\n",
    "class ListNode:\n",
    "    val: int\n",
    "    next: \"ListNode\" = None"
   ]
  },
  {
   "cell_type": "code",
   "execution_count": 6,
   "metadata": {},
   "outputs": [],
   "source": [
    "class Solution:\n",
    "    def mergeTwoLists(self, l1: ListNode, l2: ListNode) -> ListNode:\n",
    "        if not l1:\n",
    "            return l2\n",
    "        \n",
    "        if not l2:\n",
    "            return l1\n",
    "        \n",
    "        if l1.val < l2.val:\n",
    "            l1.next = self.mergeTwoLists(l1.next, l2)\n",
    "            return l1\n",
    "        \n",
    "        l2.next = self.mergeTwoLists(l1, l2.next)\n",
    "        return l2"
   ]
  },
  {
   "cell_type": "markdown",
   "metadata": {},
   "source": [
    "---\n",
    "---"
   ]
  },
  {
   "cell_type": "markdown",
   "metadata": {},
   "source": [
    "## 20. Valid Parenthesis\n",
    "\n",
    "Given a string containing just the characters '(', ')', '{', '}', '[' and ']', determine if the input string is valid.\n",
    "\n",
    "An input string is valid if:\n",
    "\n",
    "    Open brackets must be closed by the same type of brackets.\n",
    "    Open brackets must be closed in the correct order.\n",
    "\n",
    "Note that an empty string is also considered valid."
   ]
  },
  {
   "cell_type": "markdown",
   "metadata": {},
   "source": [
    "### Solution\n",
    "\n",
    "To solve this problem, we have to keep a stack of characters. If we see an opening character, we can store the equivalent closing character in a stack such that if we come across a closing character as we iterate, we can pop the stack and check if the values are equivalent.\n",
    "\n",
    "We then check if the stack is empty or not"
   ]
  },
  {
   "cell_type": "code",
   "execution_count": 7,
   "metadata": {},
   "outputs": [],
   "source": [
    "class Solution:\n",
    "    def isValid(self, s: str) -> bool:\n",
    "        stack = []\n",
    "        for char in s:\n",
    "            if char == '(':\n",
    "                stack.append(')')\n",
    "            elif char == '{':\n",
    "                stack.append('}')\n",
    "            elif char == '[':\n",
    "                stack.append(']')\n",
    "            elif not stack or stack.pop() != char:\n",
    "                return False\n",
    "        \n",
    "        return not stack"
   ]
  },
  {
   "cell_type": "code",
   "execution_count": null,
   "metadata": {},
   "outputs": [],
   "source": []
  }
 ],
 "metadata": {
  "kernelspec": {
   "display_name": "Python [conda env:pytorch] *",
   "language": "python",
   "name": "conda-env-pytorch-py"
  },
  "language_info": {
   "codemirror_mode": {
    "name": "ipython",
    "version": 3
   },
   "file_extension": ".py",
   "mimetype": "text/x-python",
   "name": "python",
   "nbconvert_exporter": "python",
   "pygments_lexer": "ipython3",
   "version": "3.7.5"
  }
 },
 "nbformat": 4,
 "nbformat_minor": 2
}
